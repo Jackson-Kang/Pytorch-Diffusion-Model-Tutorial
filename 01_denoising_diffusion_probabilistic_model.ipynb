{
 "cells": [
  {
   "cell_type": "markdown",
   "id": "f5a06b82",
   "metadata": {},
   "source": [
    "# Denoising Diffusion Probabilistic Model\n",
    "\n",
    "Kernel Author: Minsu Kang\n",
    "\n",
    "Email: mskang1478@gmail.com"
   ]
  },
  {
   "cell_type": "code",
   "execution_count": 1,
   "id": "b8195d08",
   "metadata": {},
   "outputs": [],
   "source": [
    "import torch\n",
    "import torch.nn as nn\n",
    "import torch.nn.functional as F\n",
    "import matplotlib.pyplot as plt\n",
    "\n",
    "\n",
    "import numpy as np\n",
    "\n",
    "from tqdm import tqdm\n",
    "from torchvision.utils import save_image, make_grid\n",
    "from tqdm import tqdm\n",
    "\n",
    "from torch.optim import Adam\n",
    "\n",
    "# [TODO]Refactoring 후 MNIST로 dataset 변경"
   ]
  },
  {
   "cell_type": "code",
   "execution_count": 2,
   "id": "19fcb975",
   "metadata": {},
   "outputs": [],
   "source": [
    "# Model Hyperparameters\n",
    "\n",
    "dataset_path = '~/datasets'\n",
    "\n",
    "cuda = True\n",
    "DEVICE = torch.device(\"cuda:0\" if cuda else \"cpu\")\n",
    "\n",
    "dataset = 'MNIST'\n",
    "img_size = (32, 32, 3)   if dataset == \"CIFAR10\" else (28, 28, 1) # (width, height, channels)\n",
    "\n",
    "timestep_embedding_dim = 256\n",
    "hidden_dims = [256, 256, 256, 256]\n",
    "n_timesteps = 1000\n",
    "beta_minmax=[1e-4, 2e-2]\n",
    "\n",
    "batch_size = 128\n",
    "lr = 2e-4\n",
    "epochs = 100"
   ]
  },
  {
   "cell_type": "markdown",
   "id": "eb9a213e",
   "metadata": {},
   "source": [
    "## Step 1. Load (or download) Dataset"
   ]
  },
  {
   "cell_type": "code",
   "execution_count": 3,
   "id": "f09f3f4d",
   "metadata": {},
   "outputs": [],
   "source": [
    "from torchvision.datasets import MNIST, CIFAR10\n",
    "import torchvision.transforms as transforms\n",
    "from torch.utils.data import DataLoader\n",
    "\n",
    "\n",
    "transform = transforms.Compose([\n",
    "        transforms.ToTensor(),\n",
    "])\n",
    "\n",
    "kwargs = {'num_workers': 1, 'pin_memory': True} \n",
    "\n",
    "if dataset == 'CIFAR10':\n",
    "    train_dataset = CIFAR10(dataset_path, transform=transform, train=True, download=True)\n",
    "    test_dataset  = CIFAR10(dataset_path, transform=transform, train=False, download=True)\n",
    "else:\n",
    "    train_dataset = MNIST(dataset_path, transform=transform, train=True, download=True)\n",
    "    test_dataset  = MNIST(dataset_path, transform=transform, train=False, download=True)\n",
    "\n",
    "train_loader = DataLoader(dataset=train_dataset, batch_size=batch_size, shuffle=True, **kwargs)\n",
    "test_loader  = DataLoader(dataset=test_dataset,  batch_size=batch_size, shuffle=False,  **kwargs)"
   ]
  },
  {
   "cell_type": "markdown",
   "id": "68156109",
   "metadata": {},
   "source": [
    "## Step 2. Define our model: Denoising Diffusion Probabilistic Models (DDPMs)"
   ]
  },
  {
   "cell_type": "markdown",
   "id": "42782a95",
   "metadata": {},
   "source": [
    "In this tutorial, we use simple convolution block instead of UNet-like architecture."
   ]
  },
  {
   "cell_type": "code",
   "execution_count": 4,
   "id": "5b5b32a9",
   "metadata": {},
   "outputs": [],
   "source": [
    "class ConvBlock(nn.Conv2d):\n",
    "    \"\"\"\n",
    "        Conv2D Block\n",
    "            Args:\n",
    "                x: (N, C_in, H, W)\n",
    "            Returns:\n",
    "                y: (N, C_out, H, W)\n",
    "    \"\"\"\n",
    "\n",
    "    def __init__(self, in_channels, out_channels, kernel_size, activation_fn=None, drop_rate=0.,\n",
    "                    stride=1, padding='same', dilation=1, groups=1, bias=True, gn=False, gn_groups=8):\n",
    "        \n",
    "        if padding == 'same':\n",
    "            padding = kernel_size // 2 * dilation\n",
    "\n",
    "        super(ConvBlock, self).__init__(in_channels, out_channels, kernel_size,\n",
    "                                            stride=stride, padding=padding, dilation=dilation,\n",
    "                                            groups=groups, bias=bias)\n",
    "\n",
    "        self.activation_fn = nn.SiLU() if activation_fn else None\n",
    "        self.group_norm = nn.GroupNorm(gn_groups, out_channels) if gn else None\n",
    "        self.dropout = nn.Dropout2d(p=drop_rate) if drop_rate > 0. else None\n",
    "        \n",
    "    def forward(self, x, time_embedding=None, residual=False):\n",
    "        \n",
    "        if residual:\n",
    "            # in the paper, diffusion timestep embedding was only applied to residual blocks of U-Net\n",
    "            x = x + time_embedding\n",
    "            y = x\n",
    "            x = super(ConvBlock, self).forward(x)\n",
    "            y = y + x\n",
    "        else:\n",
    "            y = super(ConvBlock, self).forward(x)\n",
    "        y = self.group_norm(y) if self.group_norm is not None else y\n",
    "        y = self.activation_fn(y) if self.activation_fn is not None else y\n",
    "        y = self.dropout(y) if self.dropout is not None else y\n",
    "        \n",
    "        return y"
   ]
  },
  {
   "cell_type": "code",
   "execution_count": 5,
   "id": "5bc08ca3",
   "metadata": {
    "scrolled": false
   },
   "outputs": [],
   "source": [
    "class Denoiser(nn.Module):\n",
    "    \n",
    "    def __init__(self, image_resolution, hidden_dims=[256, 256], diffusion_time_embedding_dim = 256, n_times=1000):\n",
    "        super(Denoiser, self).__init__()\n",
    "        \n",
    "        _, _, img_C = image_resolution\n",
    "        \n",
    "        self.time_embedding = nn.Embedding(n_times, diffusion_time_embedding_dim)\n",
    "        self.in_project = ConvBlock(img_C, hidden_dims[0], kernel_size=3)\n",
    "        \n",
    "        self.time_project = ConvBlock(diffusion_time_embedding_dim + hidden_dims[0], hidden_dims[0], kernel_size=3)\n",
    "        \n",
    "        self.convs = nn.ModuleList([ConvBlock(in_channels=hidden_dims[0], out_channels=hidden_dims[0], kernel_size=3)])\n",
    "        \n",
    "        for idx in range(1, len(hidden_dims)):\n",
    "            self.convs.append(ConvBlock(hidden_dims[idx-1], hidden_dims[idx], kernel_size=3,\n",
    "                                                    activation_fn=True, gn=True, gn_groups=8))                                \n",
    "                               \n",
    "                               \n",
    "        self.out_project = ConvBlock(hidden_dims[-1], out_channels=img_C, kernel_size=3)\n",
    "        \n",
    "        \n",
    "    def forward(self, perturbed_x, diffusion_timestep):\n",
    "        y = perturbed_x\n",
    "        \n",
    "        diffusion_embedding = self.time_embedding(diffusion_timestep)\n",
    "        diffusion_embedding = diffusion_embedding.unsqueeze(-1).unsqueeze(-2)\n",
    "        y = self.in_project(y)\n",
    "        \n",
    "        for i in range(len(self.convs)):\n",
    "            y = self.convs[i](y, diffusion_embedding, residual = True)\n",
    "            \n",
    "        y = self.out_project(y)\n",
    "            \n",
    "        return y\n",
    "    \n",
    "model = Denoiser(image_resolution=img_size,\n",
    "                 hidden_dims=hidden_dims, \n",
    "                 diffusion_time_embedding_dim=timestep_embedding_dim, \n",
    "                 n_times=n_timesteps).to(DEVICE)"
   ]
  },
  {
   "cell_type": "markdown",
   "id": "87a7829b",
   "metadata": {},
   "source": [
    "### Define Gaussian Diffusion"
   ]
  },
  {
   "cell_type": "code",
   "execution_count": 6,
   "id": "b3dcb175",
   "metadata": {
    "scrolled": false
   },
   "outputs": [],
   "source": [
    "class Diffusion(nn.Module):\n",
    "    def __init__(self, model, image_resolution=[32, 32, 3], n_times=1000, beta_minmax=[1e-4, 2e-2], device='cuda'):\n",
    "    \n",
    "        super(Diffusion, self).__init__()\n",
    "    \n",
    "        self.n_times = n_times\n",
    "        self.img_H, self.img_W, self.img_C = image_resolution\n",
    "\n",
    "        self.model = model\n",
    "        \n",
    "        # define linear variance schedule(betas)\n",
    "        beta_1, beta_T = beta_minmax\n",
    "        betas = torch.linspace(start=beta_1, end=beta_T, steps=n_times).to(device) # follows DDPM paper\n",
    "        self.sqrt_betas = torch.sqrt(betas)\n",
    "                                     \n",
    "        # define alpha for forward diffusion kernel\n",
    "        self.alphas = 1 - betas\n",
    "        self.sqrt_alphas = torch.sqrt(self.alphas)\n",
    "        alpha_bars = torch.cumprod(self.alphas, dim=0)\n",
    "        self.sqrt_one_minus_alpha_bars = torch.sqrt(1-alpha_bars)\n",
    "        self.sqrt_alpha_bars = torch.sqrt(alpha_bars)\n",
    "        \n",
    "        self.device = device\n",
    "    \n",
    "    def extract(self, a, t, x_shape):\n",
    "        \"\"\"\n",
    "            from lucidrains' implementation\n",
    "                https://github.com/lucidrains/denoising-diffusion-pytorch/blob/beb2f2d8dd9b4f2bd5be4719f37082fe061ee450/denoising_diffusion_pytorch/denoising_diffusion_pytorch.py#L376\n",
    "        \"\"\"\n",
    "        b, *_ = t.shape\n",
    "        out = a.gather(-1, t)\n",
    "        return out.reshape(b, *((1,) * (len(x_shape) - 1)))\n",
    "    \n",
    "    def scale_to_minus_one_to_one(self, x):\n",
    "        # according to the DDPMs paper, normalization seems to be crucial to train reverse process network\n",
    "        return x * 2 - 1\n",
    "    \n",
    "    def reverse_scale_to_zero_to_one(self, x):\n",
    "        return (x + 1) * 0.5\n",
    "    \n",
    "    def make_noisy(self, x_zeros, t): \n",
    "        # perturb x_0 into x_t (i.e., take x_0 samples into forward diffusion kernels)\n",
    "        epsilon = torch.randn_like(x_zeros).to(self.device)\n",
    "        \n",
    "        sqrt_alpha_bar = self.extract(self.sqrt_alpha_bars, t, x_zeros.shape)\n",
    "        sqrt_one_minus_alpha_bar = self.extract(self.sqrt_one_minus_alpha_bars, t, x_zeros.shape)\n",
    "        \n",
    "        # Let's make noisy sample!: i.e., Forward process with fixed variance schedule\n",
    "        #      i.e., sqrt(alpha_bar_t) * x_zero + sqrt(1-alpha_bar_t) * epsilon\n",
    "        noisy_sample = x_zeros * sqrt_alpha_bar + epsilon * sqrt_one_minus_alpha_bar\n",
    "    \n",
    "        return noisy_sample.detach(), epsilon\n",
    "    \n",
    "    \n",
    "    def forward(self, x_zeros):\n",
    "        x_zeros = self.scale_to_minus_one_to_one(x_zeros)\n",
    "        \n",
    "        B, _, _, _ = x_zeros.shape\n",
    "        \n",
    "        # (1) randomly choose diffusion time-step\n",
    "        t = torch.randint(low=0, high=self.n_times, size=(B,)).long().to(self.device)\n",
    "        \n",
    "        # (2) forward diffusion process: perturb x_zeros with fixed variance schedule\n",
    "        noisy_input, epsilon = self.make_noisy(x_zeros, t)\n",
    "        \n",
    "        # (3) predict epsilon(noise) given perturbed data at diffusion-timestep t.\n",
    "        pred_epsilon = self.model(noisy_input, t)\n",
    "        \n",
    "        return noisy_input, epsilon, pred_epsilon\n",
    "    \n",
    "    \n",
    "    def denoise_at_t(self, x_t, timestep, t):\n",
    "        B, _, _, _ = x_t.shape\n",
    "        if t > 1:\n",
    "            z = torch.randn_like(x_t).to(self.device)\n",
    "        else:\n",
    "            z = torch.zeros_like(x_t).to(self.device)\n",
    "        \n",
    "        # at inference, we use predicted noise(epsilon) to restore perturbed data sample.\n",
    "        epsilon_pred = self.model(x_t, timestep)\n",
    "        \n",
    "        alpha = self.extract(self.alphas, timestep, x_t.shape)\n",
    "        sqrt_alpha = self.extract(self.sqrt_alphas, timestep, x_t.shape)\n",
    "        sqrt_one_minus_alpha_bar = self.extract(self.sqrt_one_minus_alpha_bars, timestep, x_t.shape)\n",
    "        sqrt_beta = self.extract(self.sqrt_betas, timestep, x_t.shape)\n",
    "        \n",
    "        # denoise at time t, utilizing predicted noise\n",
    "        x_t_minus_1 = 1 / sqrt_alpha * (x_t - (1-alpha)/sqrt_one_minus_alpha_bar*epsilon_pred) + sqrt_beta*z\n",
    "        \n",
    "        return x_t_minus_1.clamp(-1., 1)\n",
    "                \n",
    "    def sample(self, N):\n",
    "        # start from random noise vector, x_0 (for simplicity, x_T declared as x_t instead of x_T)\n",
    "        x_t = torch.randn((N, self.img_C, self.img_H, self.img_W)).to(self.device)\n",
    "        \n",
    "        # autoregressively denoise from x_T to x_0\n",
    "        #     i.e., generate image from noise, x_T\n",
    "        for t in range(self.n_times-1, -1, -1):\n",
    "            timestep = torch.tensor([t]).repeat_interleave(N, dim=0).long().to(self.device)\n",
    "            x_t = self.denoise_at_t(x_t, timestep, t)\n",
    "        \n",
    "        # denormalize x_0 into 0 ~ 1 ranged values.\n",
    "        x_0 = self.reverse_scale_to_zero_to_one(x_t)\n",
    "        \n",
    "        return x_0\n",
    "    \n",
    "    \n",
    "diffusion = Diffusion(model, image_resolution=img_size, n_times=n_timesteps, \n",
    "                      beta_minmax=beta_minmax, device=DEVICE).to(DEVICE)\n",
    "\n",
    "optimizer = Adam(diffusion.parameters(), lr=lr)\n",
    "denoising_loss = nn.MSELoss()"
   ]
  },
  {
   "cell_type": "markdown",
   "id": "e1b91398",
   "metadata": {},
   "source": [
    "### Visualizing forward process"
   ]
  },
  {
   "cell_type": "code",
   "execution_count": 7,
   "id": "1d782244",
   "metadata": {
    "scrolled": false
   },
   "outputs": [],
   "source": [
    "model.eval()\n",
    "for batch_idx, (x, _) in enumerate(test_loader):\n",
    "    x = x.to(DEVICE)\n",
    "    noisy_input, epsilon, pred_epsilon = diffusion(x)\n",
    "    noisy_input = diffusion.reverse_scale_to_zero_to_one(noisy_input)\n",
    "    break"
   ]
  },
  {
   "cell_type": "code",
   "execution_count": 8,
   "id": "edcfb250",
   "metadata": {},
   "outputs": [],
   "source": [
    "def show_image(x, idx):\n",
    "    fig = plt.figure()\n",
    "    plt.imshow(x[idx].transpose(0, 1).transpose(1, 2).detach().cpu().numpy())"
   ]
  },
  {
   "cell_type": "code",
   "execution_count": 9,
   "id": "a0d08c56",
   "metadata": {},
   "outputs": [
    {
     "data": {
      "image/png": "[encoded data removed]",
      "text/plain": [
       "<Figure size 432x288 with 1 Axes>"
      ]
     },
     "metadata": {
      "needs_background": "light"
     },
     "output_type": "display_data"
    }
   ],
   "source": [
    "show_image(noisy_input, idx=2)"
   ]
  },
  {
   "cell_type": "code",
   "execution_count": 10,
   "id": "3b439e1e",
   "metadata": {},
   "outputs": [
    {
     "data": {
      "image/png": "[encoded data removed]",
      "text/plain": [
       "<Figure size 432x288 with 1 Axes>"
      ]
     },
     "metadata": {
      "needs_background": "light"
     },
     "output_type": "display_data"
    }
   ],
   "source": [
    "show_image(noisy_input, idx=1)"
   ]
  },
  {
   "cell_type": "markdown",
   "id": "ee82fcc4",
   "metadata": {},
   "source": [
    "## Step 3. Train Denoising Diffusion Probabilistic Models(DDPMs)"
   ]
  },
  {
   "cell_type": "code",
   "execution_count": 11,
   "id": "fd3b8f56",
   "metadata": {
    "scrolled": false
   },
   "outputs": [
    {
     "name": "stdout",
     "output_type": "stream",
     "text": [
      "Start training DDPMs...\n"
     ]
    },
    {
     "name": "stderr",
     "output_type": "stream",
     "text": [
      "100%|█████████████████████████████████████████████████████████████████████████████████████████████████████████████████████████████████████████████████████████████████████| 469/469 [00:44<00:00, 10.45it/s]"
     ]
    },
    {
     "name": "stdout",
     "output_type": "stream",
     "text": [
      "\tEpoch 1 complete! \tDenoising Loss:  0.11596181866927789\n"
     ]
    },
    {
     "name": "stderr",
     "output_type": "stream",
     "text": [
      "\n",
      "100%|█████████████████████████████████████████████████████████████████████████████████████████████████████████████████████████████████████████████████████████████████████| 469/469 [00:45<00:00, 10.42it/s]"
     ]
    },
    {
     "name": "stdout",
     "output_type": "stream",
     "text": [
      "\tEpoch 2 complete! \tDenoising Loss:  0.046662322731099576\n"
     ]
    },
    {
     "name": "stderr",
     "output_type": "stream",
     "text": [
      "\n",
      "100%|█████████████████████████████████████████████████████████████████████████████████████████████████████████████████████████████████████████████████████████████████████| 469/469 [00:45<00:00, 10.38it/s]"
     ]
    },
    {
     "name": "stdout",
     "output_type": "stream",
     "text": [
      "\tEpoch 3 complete! \tDenoising Loss:  0.041293865455808036\n"
     ]
    },
    {
     "name": "stderr",
     "output_type": "stream",
     "text": [
      "\n",
      "100%|█████████████████████████████████████████████████████████████████████████████████████████████████████████████████████████████████████████████████████████████████████| 469/469 [00:45<00:00, 10.35it/s]"
     ]
    },
    {
     "name": "stdout",
     "output_type": "stream",
     "text": [
      "\tEpoch 4 complete! \tDenoising Loss:  0.038476502594466395\n"
     ]
    },
    {
     "name": "stderr",
     "output_type": "stream",
     "text": [
      "\n",
      "100%|█████████████████████████████████████████████████████████████████████████████████████████████████████████████████████████████████████████████████████████████████████| 469/469 [00:45<00:00, 10.36it/s]"
     ]
    },
    {
     "name": "stdout",
     "output_type": "stream",
     "text": [
      "\tEpoch 5 complete! \tDenoising Loss:  0.037309173673677906\n"
     ]
    },
    {
     "name": "stderr",
     "output_type": "stream",
     "text": [
      "\n",
      "100%|█████████████████████████████████████████████████████████████████████████████████████████████████████████████████████████████████████████████████████████████████████| 469/469 [00:45<00:00, 10.36it/s]"
     ]
    },
    {
     "name": "stdout",
     "output_type": "stream",
     "text": [
      "\tEpoch 6 complete! \tDenoising Loss:  0.03587212774934422\n"
     ]
    },
    {
     "name": "stderr",
     "output_type": "stream",
     "text": [
      "\n",
      "100%|█████████████████████████████████████████████████████████████████████████████████████████████████████████████████████████████████████████████████████████████████████| 469/469 [00:45<00:00, 10.37it/s]"
     ]
    },
    {
     "name": "stdout",
     "output_type": "stream",
     "text": [
      "\tEpoch 7 complete! \tDenoising Loss:  0.034725272140473634\n"
     ]
    },
    {
     "name": "stderr",
     "output_type": "stream",
     "text": [
      "\n",
      "100%|█████████████████████████████████████████████████████████████████████████████████████████████████████████████████████████████████████████████████████████████████████| 469/469 [00:45<00:00, 10.36it/s]"
     ]
    },
    {
     "name": "stdout",
     "output_type": "stream",
     "text": [
      "\tEpoch 8 complete! \tDenoising Loss:  0.03422006419422025\n"
     ]
    },
    {
     "name": "stderr",
     "output_type": "stream",
     "text": [
      "\n",
      "100%|█████████████████████████████████████████████████████████████████████████████████████████████████████████████████████████████████████████████████████████████████████| 469/469 [00:45<00:00, 10.37it/s]"
     ]
    },
    {
     "name": "stdout",
     "output_type": "stream",
     "text": [
      "\tEpoch 9 complete! \tDenoising Loss:  0.0335958517021221\n"
     ]
    },
    {
     "name": "stderr",
     "output_type": "stream",
     "text": [
      "\n",
      "100%|█████████████████████████████████████████████████████████████████████████████████████████████████████████████████████████████████████████████████████████████████████| 469/469 [00:45<00:00, 10.36it/s]"
     ]
    },
    {
     "name": "stdout",
     "output_type": "stream",
     "text": [
      "\tEpoch 10 complete! \tDenoising Loss:  0.03333656197716283\n"
     ]
    },
    {
     "name": "stderr",
     "output_type": "stream",
     "text": [
      "\n",
      "100%|█████████████████████████████████████████████████████████████████████████████████████████████████████████████████████████████████████████████████████████████████████| 469/469 [00:45<00:00, 10.35it/s]"
     ]
    },
    {
     "name": "stdout",
     "output_type": "stream",
     "text": [
      "\tEpoch 11 complete! \tDenoising Loss:  0.03298512982745838\n"
     ]
    },
    {
     "name": "stderr",
     "output_type": "stream",
     "text": [
      "\n",
      "100%|█████████████████████████████████████████████████████████████████████████████████████████████████████████████████████████████████████████████████████████████████████| 469/469 [00:45<00:00, 10.36it/s]"
     ]
    },
    {
     "name": "stdout",
     "output_type": "stream",
     "text": [
      "\tEpoch 12 complete! \tDenoising Loss:  0.03246513385580391\n"
     ]
    },
    {
     "name": "stderr",
     "output_type": "stream",
     "text": [
      "\n",
      "100%|█████████████████████████████████████████████████████████████████████████████████████████████████████████████████████████████████████████████████████████████████████| 469/469 [00:45<00:00, 10.35it/s]"
     ]
    },
    {
     "name": "stdout",
     "output_type": "stream",
     "text": [
      "\tEpoch 13 complete! \tDenoising Loss:  0.03194137816277579\n"
     ]
    },
    {
     "name": "stderr",
     "output_type": "stream",
     "text": [
      "\n",
      "100%|█████████████████████████████████████████████████████████████████████████████████████████████████████████████████████████████████████████████████████████████████████| 469/469 [00:45<00:00, 10.36it/s]"
     ]
    },
    {
     "name": "stdout",
     "output_type": "stream",
     "text": [
      "\tEpoch 14 complete! \tDenoising Loss:  0.031281424992773525\n"
     ]
    },
    {
     "name": "stderr",
     "output_type": "stream",
     "text": [
      "\n",
      "100%|█████████████████████████████████████████████████████████████████████████████████████████████████████████████████████████████████████████████████████████████████████| 469/469 [00:45<00:00, 10.37it/s]"
     ]
    },
    {
     "name": "stdout",
     "output_type": "stream",
     "text": [
      "\tEpoch 15 complete! \tDenoising Loss:  0.03129201331454465\n"
     ]
    },
    {
     "name": "stderr",
     "output_type": "stream",
     "text": [
      "\n",
      "100%|█████████████████████████████████████████████████████████████████████████████████████████████████████████████████████████████████████████████████████████████████████| 469/469 [00:45<00:00, 10.37it/s]"
     ]
    },
    {
     "name": "stdout",
     "output_type": "stream",
     "text": [
      "\tEpoch 16 complete! \tDenoising Loss:  0.03098686641225448\n"
     ]
    },
    {
     "name": "stderr",
     "output_type": "stream",
     "text": [
      "\n",
      "100%|█████████████████████████████████████████████████████████████████████████████████████████████████████████████████████████████████████████████████████████████████████| 469/469 [00:45<00:00, 10.36it/s]"
     ]
    },
    {
     "name": "stdout",
     "output_type": "stream",
     "text": [
      "\tEpoch 17 complete! \tDenoising Loss:  0.03063446040559783\n"
     ]
    },
    {
     "name": "stderr",
     "output_type": "stream",
     "text": [
      "\n",
      "100%|█████████████████████████████████████████████████████████████████████████████████████████████████████████████████████████████████████████████████████████████████████| 469/469 [00:45<00:00, 10.37it/s]"
     ]
    },
    {
     "name": "stdout",
     "output_type": "stream",
     "text": [
      "\tEpoch 18 complete! \tDenoising Loss:  0.030480269868022356\n"
     ]
    },
    {
     "name": "stderr",
     "output_type": "stream",
     "text": [
      "\n",
      "100%|█████████████████████████████████████████████████████████████████████████████████████████████████████████████████████████████████████████████████████████████████████| 469/469 [00:45<00:00, 10.37it/s]"
     ]
    },
    {
     "name": "stdout",
     "output_type": "stream",
     "text": [
      "\tEpoch 19 complete! \tDenoising Loss:  0.030053594523770176\n"
     ]
    },
    {
     "name": "stderr",
     "output_type": "stream",
     "text": [
      "\n",
      "100%|█████████████████████████████████████████████████████████████████████████████████████████████████████████████████████████████████████████████████████████████████████| 469/469 [00:45<00:00, 10.36it/s]"
     ]
    },
    {
     "name": "stdout",
     "output_type": "stream",
     "text": [
      "\tEpoch 20 complete! \tDenoising Loss:  0.030145584780754697\n"
     ]
    },
    {
     "name": "stderr",
     "output_type": "stream",
     "text": [
      "\n",
      "100%|█████████████████████████████████████████████████████████████████████████████████████████████████████████████████████████████████████████████████████████████████████| 469/469 [00:45<00:00, 10.36it/s]"
     ]
    },
    {
     "name": "stdout",
     "output_type": "stream",
     "text": [
      "\tEpoch 21 complete! \tDenoising Loss:  0.029571145422692992\n"
     ]
    },
    {
     "name": "stderr",
     "output_type": "stream",
     "text": [
      "\n",
      "100%|█████████████████████████████████████████████████████████████████████████████████████████████████████████████████████████████████████████████████████████████████████| 469/469 [00:45<00:00, 10.36it/s]"
     ]
    },
    {
     "name": "stdout",
     "output_type": "stream",
     "text": [
      "\tEpoch 22 complete! \tDenoising Loss:  0.029242570305036172\n"
     ]
    },
    {
     "name": "stderr",
     "output_type": "stream",
     "text": [
      "\n",
      "100%|█████████████████████████████████████████████████████████████████████████████████████████████████████████████████████████████████████████████████████████████████████| 469/469 [00:45<00:00, 10.35it/s]"
     ]
    },
    {
     "name": "stdout",
     "output_type": "stream",
     "text": [
      "\tEpoch 23 complete! \tDenoising Loss:  0.029660381480223603\n"
     ]
    },
    {
     "name": "stderr",
     "output_type": "stream",
     "text": [
      "\n",
      "100%|█████████████████████████████████████████████████████████████████████████████████████████████████████████████████████████████████████████████████████████████████████| 469/469 [00:45<00:00, 10.36it/s]"
     ]
    },
    {
     "name": "stdout",
     "output_type": "stream",
     "text": [
      "\tEpoch 24 complete! \tDenoising Loss:  0.02908962299553757\n"
     ]
    },
    {
     "name": "stderr",
     "output_type": "stream",
     "text": [
      "\n",
      "100%|█████████████████████████████████████████████████████████████████████████████████████████████████████████████████████████████████████████████████████████████████████| 469/469 [00:45<00:00, 10.36it/s]"
     ]
    },
    {
     "name": "stdout",
     "output_type": "stream",
     "text": [
      "\tEpoch 25 complete! \tDenoising Loss:  0.028932063314968195\n"
     ]
    },
    {
     "name": "stderr",
     "output_type": "stream",
     "text": [
      "\n",
      "100%|█████████████████████████████████████████████████████████████████████████████████████████████████████████████████████████████████████████████████████████████████████| 469/469 [00:45<00:00, 10.36it/s]"
     ]
    },
    {
     "name": "stdout",
     "output_type": "stream",
     "text": [
      "\tEpoch 26 complete! \tDenoising Loss:  0.028690394654901873\n"
     ]
    },
    {
     "name": "stderr",
     "output_type": "stream",
     "text": [
      "\n",
      "100%|█████████████████████████████████████████████████████████████████████████████████████████████████████████████████████████████████████████████████████████████████████| 469/469 [00:45<00:00, 10.36it/s]"
     ]
    },
    {
     "name": "stdout",
     "output_type": "stream",
     "text": [
      "\tEpoch 27 complete! \tDenoising Loss:  0.028870506434995905\n"
     ]
    },
    {
     "name": "stderr",
     "output_type": "stream",
     "text": [
      "\n",
      "100%|█████████████████████████████████████████████████████████████████████████████████████████████████████████████████████████████████████████████████████████████████████| 469/469 [00:45<00:00, 10.35it/s]"
     ]
    },
    {
     "name": "stdout",
     "output_type": "stream",
     "text": [
      "\tEpoch 28 complete! \tDenoising Loss:  0.02847243246073142\n"
     ]
    },
    {
     "name": "stderr",
     "output_type": "stream",
     "text": [
      "\n",
      "100%|█████████████████████████████████████████████████████████████████████████████████████████████████████████████████████████████████████████████████████████████████████| 469/469 [00:45<00:00, 10.35it/s]"
     ]
    },
    {
     "name": "stdout",
     "output_type": "stream",
     "text": [
      "\tEpoch 29 complete! \tDenoising Loss:  0.028586528204285946\n"
     ]
    },
    {
     "name": "stderr",
     "output_type": "stream",
     "text": [
      "\n",
      "100%|█████████████████████████████████████████████████████████████████████████████████████████████████████████████████████████████████████████████████████████████████████| 469/469 [00:45<00:00, 10.36it/s]"
     ]
    },
    {
     "name": "stdout",
     "output_type": "stream",
     "text": [
      "\tEpoch 30 complete! \tDenoising Loss:  0.028514375273361165\n"
     ]
    },
    {
     "name": "stderr",
     "output_type": "stream",
     "text": [
      "\n",
      "100%|█████████████████████████████████████████████████████████████████████████████████████████████████████████████████████████████████████████████████████████████████████| 469/469 [00:45<00:00, 10.36it/s]"
     ]
    },
    {
     "name": "stdout",
     "output_type": "stream",
     "text": [
      "\tEpoch 31 complete! \tDenoising Loss:  0.028170144838145655\n"
     ]
    },
    {
     "name": "stderr",
     "output_type": "stream",
     "text": [
      "\n",
      "100%|█████████████████████████████████████████████████████████████████████████████████████████████████████████████████████████████████████████████████████████████████████| 469/469 [00:45<00:00, 10.37it/s]"
     ]
    },
    {
     "name": "stdout",
     "output_type": "stream",
     "text": [
      "\tEpoch 32 complete! \tDenoising Loss:  0.028090623167590197\n"
     ]
    },
    {
     "name": "stderr",
     "output_type": "stream",
     "text": [
      "\n",
      " 21%|███████████████████████████████████                                                                                                                                   | 99/469 [00:09<00:35, 10.31it/s]\n"
     ]
    },
    {
     "ename": "KeyboardInterrupt",
     "evalue": "",
     "output_type": "error",
     "traceback": [
      "\u001b[0;31m---------------------------------------------------------------------------\u001b[0m",
      "\u001b[0;31mKeyboardInterrupt\u001b[0m                         Traceback (most recent call last)",
      "Input \u001b[0;32mIn [11]\u001b[0m, in \u001b[0;36m<cell line: 4>\u001b[0;34m()\u001b[0m\n\u001b[1;32m     11\u001b[0m noisy_input, epsilon, pred_epsilon \u001b[38;5;241m=\u001b[39m diffusion(x)\n\u001b[1;32m     12\u001b[0m loss \u001b[38;5;241m=\u001b[39m denoising_loss(pred_epsilon, epsilon)\n\u001b[0;32m---> 14\u001b[0m noise_prediction_loss \u001b[38;5;241m+\u001b[39m\u001b[38;5;241m=\u001b[39m \u001b[43mloss\u001b[49m\u001b[38;5;241;43m.\u001b[39;49m\u001b[43mitem\u001b[49m\u001b[43m(\u001b[49m\u001b[43m)\u001b[49m\n\u001b[1;32m     16\u001b[0m loss\u001b[38;5;241m.\u001b[39mbackward()\n\u001b[1;32m     17\u001b[0m optimizer\u001b[38;5;241m.\u001b[39mstep()\n",
      "\u001b[0;31mKeyboardInterrupt\u001b[0m: "
     ]
    }
   ],
   "source": [
    "print(\"Start training DDPMs...\")\n",
    "model.train()\n",
    "\n",
    "for epoch in range(epochs):\n",
    "    noise_prediction_loss = 0\n",
    "    for batch_idx, (x, _) in tqdm(enumerate(train_loader), total=len(train_loader)):\n",
    "        optimizer.zero_grad()\n",
    "\n",
    "        x = x.to(DEVICE)\n",
    "        \n",
    "        noisy_input, epsilon, pred_epsilon = diffusion(x)\n",
    "        loss = denoising_loss(pred_epsilon, epsilon)\n",
    "        \n",
    "        noise_prediction_loss += loss.item()\n",
    "        \n",
    "        loss.backward()\n",
    "        optimizer.step()\n",
    "        \n",
    "    print(\"\\tEpoch\", epoch + 1, \"complete!\", \"\\tDenoising Loss: \", noise_prediction_loss / batch_idx)\n",
    "    \n",
    "print(\"Finish!!\")"
   ]
  },
  {
   "cell_type": "markdown",
   "id": "fc7f2e03",
   "metadata": {},
   "source": [
    "## Step 4. Sample images from noise."
   ]
  },
  {
   "cell_type": "code",
   "execution_count": 12,
   "id": "ef9a692b",
   "metadata": {},
   "outputs": [],
   "source": [
    "model.eval()\n",
    "\n",
    "with torch.no_grad():\n",
    "    generated_images = diffusion.sample(N=32)"
   ]
  },
  {
   "cell_type": "code",
   "execution_count": 13,
   "id": "1a300993",
   "metadata": {},
   "outputs": [
    {
     "data": {
      "image/png": "[encoded data removed]",
      "text/plain": [
       "<Figure size 432x288 with 1 Axes>"
      ]
     },
     "metadata": {
      "needs_background": "light"
     },
     "output_type": "display_data"
    }
   ],
   "source": [
    "show_image(generated_images, idx=0)"
   ]
  },
  {
   "cell_type": "code",
   "execution_count": 14,
   "id": "5bd0d7f8",
   "metadata": {},
   "outputs": [
    {
     "data": {
      "image/png": "[encoded data removed]",
      "text/plain": [
       "<Figure size 432x288 with 1 Axes>"
      ]
     },
     "metadata": {
      "needs_background": "light"
     },
     "output_type": "display_data"
    }
   ],
   "source": [
    "show_image(generated_images, idx=1)"
   ]
  },
  {
   "cell_type": "code",
   "execution_count": 15,
   "id": "dcb4f43f",
   "metadata": {},
   "outputs": [
    {
     "data": {
      "image/png": "[encoded data removed]",
      "text/plain": [
       "<Figure size 432x288 with 1 Axes>"
      ]
     },
     "metadata": {
      "needs_background": "light"
     },
     "output_type": "display_data"
    }
   ],
   "source": [
    "show_image(generated_images, idx=2)"
   ]
  },
  {
   "cell_type": "code",
   "execution_count": 16,
   "id": "81202c3b",
   "metadata": {},
   "outputs": [
    {
     "data": {
      "image/png": "[encoded data removed]",
      "text/plain": [
       "<Figure size 432x288 with 1 Axes>"
      ]
     },
     "metadata": {
      "needs_background": "light"
     },
     "output_type": "display_data"
    }
   ],
   "source": [
    "show_image(generated_images, idx=3)"
   ]
  },
  {
   "cell_type": "code",
   "execution_count": 17,
   "id": "070fcbad",
   "metadata": {},
   "outputs": [
    {
     "data": {
      "image/png": "[encoded data removed]",
      "text/plain": [
       "<Figure size 432x288 with 1 Axes>"
      ]
     },
     "metadata": {
      "needs_background": "light"
     },
     "output_type": "display_data"
    }
   ],
   "source": [
    "show_image(generated_images, idx=4)"
   ]
  },
  {
   "cell_type": "code",
   "execution_count": 18,
   "id": "be023bdb",
   "metadata": {},
   "outputs": [
    {
     "data": {
      "image/png": "[encoded data removed]",
      "text/plain": [
       "<Figure size 432x288 with 1 Axes>"
      ]
     },
     "metadata": {
      "needs_background": "light"
     },
     "output_type": "display_data"
    }
   ],
   "source": [
    "show_image(generated_images, idx=5)"
   ]
  },
  {
   "cell_type": "code",
   "execution_count": null,
   "id": "44dd548b",
   "metadata": {},
   "outputs": [],
   "source": []
  },
  {
   "cell_type": "code",
   "execution_count": null,
   "id": "d22faa00",
   "metadata": {},
   "outputs": [],
   "source": []
  },
  {
   "cell_type": "code",
   "execution_count": null,
   "id": "60f0b14d",
   "metadata": {},
   "outputs": [],
   "source": []
  }
 ],
 "metadata": {
  "kernelspec": {
   "display_name": "Python 3 (ipykernel)",
   "language": "python",
   "name": "python3"
  },
  "language_info": {
   "codemirror_mode": {
    "name": "ipython",
    "version": 3
   },
   "file_extension": ".py",
   "mimetype": "text/x-python",
   "name": "python",
   "nbconvert_exporter": "python",
   "pygments_lexer": "ipython3",
   "version": "3.9.13"
  }
 },
 "nbformat": 4,
 "nbformat_minor": 5
}
